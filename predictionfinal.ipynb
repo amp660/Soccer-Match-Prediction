{
 "cells": [
  {
   "cell_type": "code",
   "execution_count": 1,
   "metadata": {},
   "outputs": [],
   "source": [
    "#import python libraries\n",
    "import pandas as pd\n",
    "import numpy as np\n",
    "\n",
    "import sys\n",
    "import math\n",
    "import csv\n",
    "import urllib\n",
    "import collections\n",
    "\n",
    "#import Scikit-Learn libraries for implementation of machine learning algorithms \n",
    "import sklearn"
   ]
  },
  {
   "cell_type": "code",
   "execution_count": 2,
   "metadata": {
    "scrolled": true
   },
   "outputs": [
    {
     "name": "stderr",
     "output_type": "stream",
     "text": [
      "/anaconda3/lib/python3.6/site-packages/sklearn/cross_validation.py:41: DeprecationWarning: This module was deprecated in version 0.18 in favor of the model_selection module into which all the refactored classes and functions are moved. Also note that the interface of the new CV iterators are different from that of this module. This module will be removed in 0.20.\n",
      "  \"This module will be removed in 0.20.\", DeprecationWarning)\n"
     ]
    }
   ],
   "source": [
    "# Recursive Feature Elimination\n",
    "from sklearn import datasets\n",
    "from sklearn.feature_selection import RFE\n",
    "from sklearn.linear_model import LogisticRegression\n",
    "#feature importance\n",
    "from sklearn import metrics\n",
    "from sklearn.ensemble import ExtraTreesClassifier\n",
    "#to create predictions\n",
    "from sklearn.cross_validation import train_test_split\n",
    "#algorithms tested\n",
    "from sklearn import svm\n",
    "from sklearn.svm import SVC\n",
    "from sklearn.svm import LinearSVC\n",
    "from sklearn import linear_model\n",
    "from sklearn import tree\n",
    "from sklearn.cross_validation import cross_val_score\n",
    "from sklearn.neighbors import KNeighborsClassifier\n",
    "from sklearn.ensemble import GradientBoostingRegressor\n",
    "from sklearn.ensemble import GradientBoostingClassifier\n",
    "from sklearn.ensemble import RandomForestClassifier\n",
    "from sklearn.ensemble import AdaBoostClassifier\n",
    "from sklearn.metrics import classification_report"
   ]
  },
  {
   "cell_type": "markdown",
   "metadata": {},
   "source": [
    "### Data Visualization"
   ]
  },
  {
   "cell_type": "code",
   "execution_count": 3,
   "metadata": {
    "scrolled": true
   },
   "outputs": [
    {
     "data": {
      "text/html": [
       "<div>\n",
       "<style scoped>\n",
       "    .dataframe tbody tr th:only-of-type {\n",
       "        vertical-align: middle;\n",
       "    }\n",
       "\n",
       "    .dataframe tbody tr th {\n",
       "        vertical-align: top;\n",
       "    }\n",
       "\n",
       "    .dataframe thead th {\n",
       "        text-align: right;\n",
       "    }\n",
       "</style>\n",
       "<table border=\"1\" class=\"dataframe\">\n",
       "  <thead>\n",
       "    <tr style=\"text-align: right;\">\n",
       "      <th></th>\n",
       "      <th>ID</th>\n",
       "      <th>Year</th>\n",
       "      <th>Date</th>\n",
       "      <th>HomeTeam</th>\n",
       "      <th>AwayTeam</th>\n",
       "      <th>FTHG</th>\n",
       "      <th>FTAG</th>\n",
       "      <th>FTR</th>\n",
       "      <th>HTHG</th>\n",
       "      <th>HTAG</th>\n",
       "      <th>...</th>\n",
       "      <th>HF</th>\n",
       "      <th>AF</th>\n",
       "      <th>HC</th>\n",
       "      <th>AC</th>\n",
       "      <th>HY</th>\n",
       "      <th>AY</th>\n",
       "      <th>HR</th>\n",
       "      <th>AR</th>\n",
       "      <th>Winner</th>\n",
       "      <th>Loser</th>\n",
       "    </tr>\n",
       "  </thead>\n",
       "  <tbody>\n",
       "    <tr>\n",
       "      <th>0</th>\n",
       "      <td>1</td>\n",
       "      <td>2005</td>\n",
       "      <td>13-Aug-05</td>\n",
       "      <td>Everton</td>\n",
       "      <td>Man United</td>\n",
       "      <td>0</td>\n",
       "      <td>2</td>\n",
       "      <td>A</td>\n",
       "      <td>0</td>\n",
       "      <td>1</td>\n",
       "      <td>...</td>\n",
       "      <td>15</td>\n",
       "      <td>14</td>\n",
       "      <td>8</td>\n",
       "      <td>6</td>\n",
       "      <td>3</td>\n",
       "      <td>1</td>\n",
       "      <td>0</td>\n",
       "      <td>0</td>\n",
       "      <td>Man United</td>\n",
       "      <td>Everton</td>\n",
       "    </tr>\n",
       "    <tr>\n",
       "      <th>1</th>\n",
       "      <td>2</td>\n",
       "      <td>2005</td>\n",
       "      <td>13-Aug-05</td>\n",
       "      <td>Man City</td>\n",
       "      <td>West Brom</td>\n",
       "      <td>0</td>\n",
       "      <td>0</td>\n",
       "      <td>D</td>\n",
       "      <td>0</td>\n",
       "      <td>0</td>\n",
       "      <td>...</td>\n",
       "      <td>13</td>\n",
       "      <td>11</td>\n",
       "      <td>3</td>\n",
       "      <td>6</td>\n",
       "      <td>2</td>\n",
       "      <td>3</td>\n",
       "      <td>0</td>\n",
       "      <td>0</td>\n",
       "      <td>None</td>\n",
       "      <td>None</td>\n",
       "    </tr>\n",
       "    <tr>\n",
       "      <th>2</th>\n",
       "      <td>3</td>\n",
       "      <td>2005</td>\n",
       "      <td>14-Aug-05</td>\n",
       "      <td>Arsenal</td>\n",
       "      <td>Newcastle</td>\n",
       "      <td>2</td>\n",
       "      <td>0</td>\n",
       "      <td>H</td>\n",
       "      <td>0</td>\n",
       "      <td>0</td>\n",
       "      <td>...</td>\n",
       "      <td>15</td>\n",
       "      <td>17</td>\n",
       "      <td>8</td>\n",
       "      <td>3</td>\n",
       "      <td>0</td>\n",
       "      <td>1</td>\n",
       "      <td>0</td>\n",
       "      <td>1</td>\n",
       "      <td>Arsenal</td>\n",
       "      <td>Newcastle</td>\n",
       "    </tr>\n",
       "    <tr>\n",
       "      <th>3</th>\n",
       "      <td>4</td>\n",
       "      <td>2005</td>\n",
       "      <td>20-Aug-05</td>\n",
       "      <td>Newcastle</td>\n",
       "      <td>West Ham</td>\n",
       "      <td>0</td>\n",
       "      <td>0</td>\n",
       "      <td>D</td>\n",
       "      <td>0</td>\n",
       "      <td>0</td>\n",
       "      <td>...</td>\n",
       "      <td>9</td>\n",
       "      <td>11</td>\n",
       "      <td>10</td>\n",
       "      <td>2</td>\n",
       "      <td>1</td>\n",
       "      <td>1</td>\n",
       "      <td>0</td>\n",
       "      <td>1</td>\n",
       "      <td>None</td>\n",
       "      <td>None</td>\n",
       "    </tr>\n",
       "    <tr>\n",
       "      <th>4</th>\n",
       "      <td>5</td>\n",
       "      <td>2005</td>\n",
       "      <td>21-Aug-05</td>\n",
       "      <td>Chelsea</td>\n",
       "      <td>Arsenal</td>\n",
       "      <td>1</td>\n",
       "      <td>0</td>\n",
       "      <td>H</td>\n",
       "      <td>0</td>\n",
       "      <td>0</td>\n",
       "      <td>...</td>\n",
       "      <td>17</td>\n",
       "      <td>21</td>\n",
       "      <td>3</td>\n",
       "      <td>7</td>\n",
       "      <td>2</td>\n",
       "      <td>3</td>\n",
       "      <td>0</td>\n",
       "      <td>0</td>\n",
       "      <td>Chelsea</td>\n",
       "      <td>Arsenal</td>\n",
       "    </tr>\n",
       "  </tbody>\n",
       "</table>\n",
       "<p>5 rows × 26 columns</p>\n",
       "</div>"
      ],
      "text/plain": [
       "   ID  Year       Date   HomeTeam    AwayTeam  FTHG  FTAG FTR  HTHG  HTAG  \\\n",
       "0   1  2005  13-Aug-05    Everton  Man United     0     2   A     0     1   \n",
       "1   2  2005  13-Aug-05   Man City   West Brom     0     0   D     0     0   \n",
       "2   3  2005  14-Aug-05    Arsenal   Newcastle     2     0   H     0     0   \n",
       "3   4  2005  20-Aug-05  Newcastle    West Ham     0     0   D     0     0   \n",
       "4   5  2005  21-Aug-05    Chelsea     Arsenal     1     0   H     0     0   \n",
       "\n",
       "     ...      HF  AF  HC  AC  HY  AY  HR  AR      Winner      Loser  \n",
       "0    ...      15  14   8   6   3   1   0   0  Man United    Everton  \n",
       "1    ...      13  11   3   6   2   3   0   0        None       None  \n",
       "2    ...      15  17   8   3   0   1   0   1     Arsenal  Newcastle  \n",
       "3    ...       9  11  10   2   1   1   0   1        None       None  \n",
       "4    ...      17  21   3   7   2   3   0   0     Chelsea    Arsenal  \n",
       "\n",
       "[5 rows x 26 columns]"
      ]
     },
     "execution_count": 3,
     "metadata": {},
     "output_type": "execute_result"
    }
   ],
   "source": [
    "#Import the csv data\n",
    "EPL_data = pd.read_csv('Training_Data1.csv')\n",
    "EPL_data.head()"
   ]
  },
  {
   "cell_type": "code",
   "execution_count": 4,
   "metadata": {
    "scrolled": true
   },
   "outputs": [
    {
     "data": {
      "text/html": [
       "<div>\n",
       "<style scoped>\n",
       "    .dataframe tbody tr th:only-of-type {\n",
       "        vertical-align: middle;\n",
       "    }\n",
       "\n",
       "    .dataframe tbody tr th {\n",
       "        vertical-align: top;\n",
       "    }\n",
       "\n",
       "    .dataframe thead th {\n",
       "        text-align: right;\n",
       "    }\n",
       "</style>\n",
       "<table border=\"1\" class=\"dataframe\">\n",
       "  <thead>\n",
       "    <tr style=\"text-align: right;\">\n",
       "      <th></th>\n",
       "      <th>Team_Name</th>\n",
       "    </tr>\n",
       "  </thead>\n",
       "  <tbody>\n",
       "    <tr>\n",
       "      <th>11</th>\n",
       "      <td>Watford</td>\n",
       "    </tr>\n",
       "    <tr>\n",
       "      <th>12</th>\n",
       "      <td>Newcastle</td>\n",
       "    </tr>\n",
       "    <tr>\n",
       "      <th>13</th>\n",
       "      <td>Tottenham</td>\n",
       "    </tr>\n",
       "    <tr>\n",
       "      <th>14</th>\n",
       "      <td>Liverpool</td>\n",
       "    </tr>\n",
       "    <tr>\n",
       "      <th>15</th>\n",
       "      <td>Bournemouth</td>\n",
       "    </tr>\n",
       "  </tbody>\n",
       "</table>\n",
       "</div>"
      ],
      "text/plain": [
       "      Team_Name\n",
       "11      Watford\n",
       "12    Newcastle\n",
       "13    Tottenham\n",
       "14    Liverpool\n",
       "15  Bournemouth"
      ]
     },
     "execution_count": 4,
     "metadata": {},
     "output_type": "execute_result"
    }
   ],
   "source": [
    "#get list of teams in EPL that play in January 2018\n",
    "#team_names.head()\n",
    "team_names = pd.read_csv('Team_Names.csv')\n",
    "teamList = team_names['Team_Name'].tolist()\n",
    "team_names.tail()"
   ]
  },
  {
   "cell_type": "code",
   "execution_count": 5,
   "metadata": {},
   "outputs": [
    {
     "name": "stdout",
     "output_type": "stream",
     "text": [
      "  Team_Name\n",
      "0   Arsenal\n"
     ]
    }
   ],
   "source": [
    "#test\n",
    "print (team_names[team_names['Team_Name'] == 'Arsenal'])"
   ]
  },
  {
   "cell_type": "code",
   "execution_count": 6,
   "metadata": {},
   "outputs": [
    {
     "name": "stdout",
     "output_type": "stream",
     "text": [
      "    Team_Name\n",
      "14  Liverpool\n"
     ]
    }
   ],
   "source": [
    "#test\n",
    "print (team_names[team_names['Team_Name'] == 'Liverpool'])"
   ]
  },
  {
   "cell_type": "markdown",
   "metadata": {},
   "source": [
    "### Feature Creation\n",
    "Use a Support Vector Machine (SVM). Plot each data item as a point in a n-dimensional environment, where each feature is a value of a particular coordinate. Find the distance (subtraction) between two vectors. "
   ]
  },
  {
   "cell_type": "code",
   "execution_count": 7,
   "metadata": {},
   "outputs": [],
   "source": [
    "#get annual vectors for each team\n",
    "def getAnnualTeamData(teamName, year):\n",
    "    \n",
    "    annual_data = EPL_data[EPL_data['Year'] == year]\n",
    "    \n",
    "    # num goals scored in wins and losses\n",
    "    gamesHome = annual_data[annual_data['HomeTeam'] == teamName] \n",
    "    totalGoalsScored = gamesHome['FTHG'].sum()\n",
    "    gamesAway = annual_data[annual_data['AwayTeam'] == teamName]\n",
    "    totalGames = gamesHome.append(gamesAway)\n",
    "    numGames = len(totalGames.index)\n",
    "    #total goals scored\n",
    "    totalGoalsScored += gamesAway['FTAG'].sum()\n",
    "    # total goals allowed\n",
    "    totalGoalsAllowed = gamesHome['FTAG'].sum()\n",
    "    totalGoalsAllowed += gamesAway['FTHG'].sum()\n",
    "    \n",
    "    #discipline: total red cards, total yellow cards\n",
    "    totalYellowCards = gamesHome['HY'].sum()\n",
    "    totalYellowCards += gamesAway['AY'].sum()\n",
    "    totalRedCards = gamesHome['HR'].sum()\n",
    "    totalRedCards += gamesAway['AR'].sum()\n",
    "    \n",
    "    #total fouls\n",
    "    totalFouls = gamesHome['HF'].sum()\n",
    "    totalFouls += gamesAway['AF'].sum()\n",
    "    \n",
    "    #total Corners\n",
    "    totalCorners = gamesHome['HC'].sum()\n",
    "    totalCorners += gamesAway['AC'].sum()\n",
    "\n",
    "    #shots per game (spg) = total shots / total games \n",
    "    totalShots = gamesHome['HS'].sum()\n",
    "    # avg shots per game\n",
    "    totalShots += gamesAway['AS'].sum()\n",
    "    if numGames != 0:\n",
    "        spg = totalShots / numGames\n",
    "    # avg shots allowed per game\n",
    "    totalShotsAgainst = gamesHome['AS'].sum()\n",
    "    totalShotsAgainst += gamesAway['HS'].sum()\n",
    "    if numGames != 0:\n",
    "        sag = totalShotsAgainst / numGames\n",
    "    \n",
    "    #Games Won Percentage = Games Won / (Games Won + Games Lost) \n",
    "    gamesWon = annual_data[annual_data['Winner'] == teamName] \n",
    "    gamesLost = annual_data[annual_data['Loser'] == teamName] \n",
    "    numGamesWon = len(gamesWon.index)\n",
    "    numGamesLost = len(gamesLost.index)\n",
    "    if numGames != 0:\n",
    "        gamesWonPercentage = numGamesWon / numGames\n",
    "    \n",
    "    #Defense stats\n",
    "        #Goalie Saves = Shots on Goal - Goal Scored\n",
    "    totalShotsOnGoal = gamesHome['HST'].sum()\n",
    "    totalShotsOnGoal += gamesAway['AST'].sum()\n",
    "    goalieSaves = totalShotsOnGoal - totalGoalsAllowed\n",
    "    \n",
    "        #Saves Percentage = Goalie Saves / Shots on Goal   \n",
    "    if totalShotsOnGoal != 0:\n",
    "        savesPercentage = goalieSaves / totalShotsOnGoal\n",
    "        \n",
    "        #Saves Ratio = Shots On Goal / Goalie Saves    \n",
    "    if goalieSaves != 0:\n",
    "        savesRatio = totalShotsOnGoal / goalieSaves\n",
    "\n",
    "    #Offense stats\n",
    "        #Scoring Percentage = (Scoring Attempts - Goals Scored ) / Scoring Attempts\n",
    "    if totalShots != 0:\n",
    "        scoringPercentage = (totalShots - totalGoalsScored) / totalShots\n",
    "        \n",
    "        #Scoring Ratio = Shots On Goal / Goals Scored\n",
    "    if totalGoalsScored != 0:\n",
    "        scoringRatio = totalShotsOnGoal / totalGoalsScored       \n",
    "        \n",
    "            \n",
    "    if numGames == 0: #if team not in dataset\n",
    "        gamesWon = 0\n",
    "        gamesLost = 0\n",
    "        totalGoalsScored = 0\n",
    "        totalGoalsAllowed = 0\n",
    "        totalYellowCards = 0\n",
    "        totalRedCards = 0\n",
    "        totalFouls = 0\n",
    "        totalCorners = 0\n",
    "        spg = 0\n",
    "        sag = 0\n",
    "        gamesWonPercentage = 0\n",
    "        goalieSaves = 0\n",
    "        savesPercentage = 0\n",
    "        savesRatio = 0\n",
    "        scoringPercentage = 0\n",
    "        scoringRatio = 0 \n",
    "        \n",
    "    return [totalGoalsScored, totalGoalsAllowed, totalYellowCards, totalRedCards,\n",
    "        totalFouls,totalCorners, spg, sag, gamesWonPercentage, goalieSaves, savesPercentage, savesRatio,\n",
    "        scoringPercentage, scoringRatio]"
   ]
  },
  {
   "cell_type": "code",
   "execution_count": 8,
   "metadata": {
    "scrolled": true
   },
   "outputs": [
    {
     "data": {
      "text/plain": [
       "[32,\n",
       " 24,\n",
       " 29,\n",
       " 2,\n",
       " 171,\n",
       " 110,\n",
       " 13.647058823529411,\n",
       " 12.823529411764707,\n",
       " 0.5294117647058824,\n",
       " 62,\n",
       " 0.7209302325581395,\n",
       " 1.3870967741935485,\n",
       " 0.8620689655172413,\n",
       " 2.6875]"
      ]
     },
     "execution_count": 8,
     "metadata": {},
     "output_type": "execute_result"
    }
   ],
   "source": [
    "#test\n",
    "getAnnualTeamData('Arsenal', 2017)"
   ]
  },
  {
   "cell_type": "code",
   "execution_count": 9,
   "metadata": {},
   "outputs": [
    {
     "data": {
      "text/plain": [
       "[40,\n",
       " 42,\n",
       " 61,\n",
       " 5,\n",
       " 324,\n",
       " 173,\n",
       " 13.612903225806452,\n",
       " 11.870967741935484,\n",
       " 0.3225806451612903,\n",
       " 100,\n",
       " 0.704225352112676,\n",
       " 1.42,\n",
       " 0.9052132701421801,\n",
       " 3.55]"
      ]
     },
     "execution_count": 9,
     "metadata": {},
     "output_type": "execute_result"
    }
   ],
   "source": [
    "#test\n",
    "getAnnualTeamData('Chelsea', 2015)"
   ]
  },
  {
   "cell_type": "code",
   "execution_count": 10,
   "metadata": {},
   "outputs": [],
   "source": [
    "#create a dictionary for all the team stats in a year for all the teams\n",
    "def createAnnualDict(year):\n",
    "    annualDictionary = collections.defaultdict(list)\n",
    "    for team in teamList:\n",
    "        team_vector = getAnnualTeamData(team, year)\n",
    "        annualDictionary[team] = team_vector\n",
    "    return annualDictionary"
   ]
  },
  {
   "cell_type": "code",
   "execution_count": 11,
   "metadata": {},
   "outputs": [
    {
     "data": {
      "text/plain": [
       "defaultdict(list,\n",
       "            {'Arsenal': [58,\n",
       "              35,\n",
       "              40,\n",
       "              3,\n",
       "              310,\n",
       "              165,\n",
       "              14.193548387096774,\n",
       "              12.0,\n",
       "              0.4838709677419355,\n",
       "              117,\n",
       "              0.7697368421052632,\n",
       "              1.2991452991452992,\n",
       "              0.8681818181818182,\n",
       "              2.6206896551724137],\n",
       "             'Burnley': [15,\n",
       "              27,\n",
       "              25,\n",
       "              0,\n",
       "              171,\n",
       "              58,\n",
       "              8.9375,\n",
       "              20.625,\n",
       "              0.3125,\n",
       "              19,\n",
       "              0.41304347826086957,\n",
       "              2.4210526315789473,\n",
       "              0.8951048951048951,\n",
       "              3.066666666666667],\n",
       "             'Everton': [35,\n",
       "              43,\n",
       "              49,\n",
       "              4,\n",
       "              334,\n",
       "              171,\n",
       "              12.125,\n",
       "              13.84375,\n",
       "              0.25,\n",
       "              90,\n",
       "              0.6766917293233082,\n",
       "              1.4777777777777779,\n",
       "              0.9097938144329897,\n",
       "              3.8],\n",
       "             'Leicester': [47,\n",
       "              35,\n",
       "              48,\n",
       "              4,\n",
       "              359,\n",
       "              186,\n",
       "              12.25,\n",
       "              14.28125,\n",
       "              0.46875,\n",
       "              90,\n",
       "              0.72,\n",
       "              1.3888888888888888,\n",
       "              0.8801020408163265,\n",
       "              2.6595744680851063],\n",
       "             'Man City': [62,\n",
       "              40,\n",
       "              54,\n",
       "              3,\n",
       "              348,\n",
       "              210,\n",
       "              15.46875,\n",
       "              8.9375,\n",
       "              0.5,\n",
       "              122,\n",
       "              0.7530864197530864,\n",
       "              1.3278688524590163,\n",
       "              0.8747474747474747,\n",
       "              2.6129032258064515],\n",
       "             'Southampton': [44,\n",
       "              33,\n",
       "              42,\n",
       "              4,\n",
       "              364,\n",
       "              161,\n",
       "              13.3125,\n",
       "              11.5,\n",
       "              0.5,\n",
       "              103,\n",
       "              0.7573529411764706,\n",
       "              1.3203883495145632,\n",
       "              0.8967136150234741,\n",
       "              3.090909090909091],\n",
       "             'Swansea': [40,\n",
       "              63,\n",
       "              51,\n",
       "              0,\n",
       "              371,\n",
       "              145,\n",
       "              11.0625,\n",
       "              16.0,\n",
       "              0.25,\n",
       "              65,\n",
       "              0.5078125,\n",
       "              1.9692307692307693,\n",
       "              0.8870056497175142,\n",
       "              3.2],\n",
       "             'West Ham': [52,\n",
       "              58,\n",
       "              61,\n",
       "              3,\n",
       "              346,\n",
       "              174,\n",
       "              14.6875,\n",
       "              13.40625,\n",
       "              0.34375,\n",
       "              83,\n",
       "              0.5886524822695035,\n",
       "              1.6987951807228916,\n",
       "              0.8893617021276595,\n",
       "              2.7115384615384617],\n",
       "             'Crystal Palace': [34,\n",
       "              59,\n",
       "              60,\n",
       "              0,\n",
       "              388,\n",
       "              175,\n",
       "              12.096774193548388,\n",
       "              14.193548387096774,\n",
       "              0.0967741935483871,\n",
       "              58,\n",
       "              0.49572649572649574,\n",
       "              2.0172413793103448,\n",
       "              0.9093333333333333,\n",
       "              3.4411764705882355],\n",
       "             'Man United': [47,\n",
       "              34,\n",
       "              69,\n",
       "              2,\n",
       "              431,\n",
       "              186,\n",
       "              13.09375,\n",
       "              11.25,\n",
       "              0.5,\n",
       "              112,\n",
       "              0.7671232876712328,\n",
       "              1.3035714285714286,\n",
       "              0.8878281622911695,\n",
       "              3.106382978723404],\n",
       "             'West Brom': [39,\n",
       "              44,\n",
       "              60,\n",
       "              0,\n",
       "              366,\n",
       "              142,\n",
       "              10.75,\n",
       "              14.46875,\n",
       "              0.34375,\n",
       "              53,\n",
       "              0.5463917525773195,\n",
       "              1.830188679245283,\n",
       "              0.8866279069767442,\n",
       "              2.4871794871794872],\n",
       "             'Watford': [29,\n",
       "              51,\n",
       "              70,\n",
       "              4,\n",
       "              426,\n",
       "              120,\n",
       "              10.483870967741936,\n",
       "              14.483870967741936,\n",
       "              0.22580645161290322,\n",
       "              59,\n",
       "              0.5363636363636364,\n",
       "              1.8644067796610169,\n",
       "              0.9107692307692308,\n",
       "              3.793103448275862],\n",
       "             'Newcastle': [22,\n",
       "              27,\n",
       "              18,\n",
       "              2,\n",
       "              177,\n",
       "              65,\n",
       "              11.75,\n",
       "              12.8125,\n",
       "              0.3125,\n",
       "              49,\n",
       "              0.6447368421052632,\n",
       "              1.5510204081632653,\n",
       "              0.8829787234042553,\n",
       "              3.4545454545454546],\n",
       "             'Tottenham': [54,\n",
       "              31,\n",
       "              62,\n",
       "              0,\n",
       "              400,\n",
       "              219,\n",
       "              18.35483870967742,\n",
       "              10.64516129032258,\n",
       "              0.45161290322580644,\n",
       "              166,\n",
       "              0.8426395939086294,\n",
       "              1.1867469879518073,\n",
       "              0.9050966608084359,\n",
       "              3.6481481481481484],\n",
       "             'Liverpool': [64,\n",
       "              42,\n",
       "              45,\n",
       "              2,\n",
       "              343,\n",
       "              209,\n",
       "              17.0625,\n",
       "              10.25,\n",
       "              0.5,\n",
       "              142,\n",
       "              0.7717391304347826,\n",
       "              1.295774647887324,\n",
       "              0.8827838827838828,\n",
       "              2.875],\n",
       "             'Bournemouth': [36,\n",
       "              57,\n",
       "              43,\n",
       "              2,\n",
       "              313,\n",
       "              177,\n",
       "              10.71875,\n",
       "              14.0,\n",
       "              0.3125,\n",
       "              46,\n",
       "              0.44660194174757284,\n",
       "              2.239130434782609,\n",
       "              0.8950437317784257,\n",
       "              2.861111111111111]})"
      ]
     },
     "execution_count": 11,
     "metadata": {},
     "output_type": "execute_result"
    }
   ],
   "source": [
    "createAnnualDict(2016)"
   ]
  },
  {
   "cell_type": "markdown",
   "metadata": {},
   "source": [
    "# Model Training\n",
    "Create training method that takes in a dictionary with with all the teams vectors by year. For each game, the function calculates the difference between between the team vectors for that year. Then, the function assigns a yTrain that is a 1 if the home team wins, and 0 otherwise. The difference vector becomes the input (xTrain) for the model, and a label (yTrain)."
   ]
  },
  {
   "cell_type": "code",
   "execution_count": 12,
   "metadata": {},
   "outputs": [],
   "source": [
    "def getTrainingData(years):\n",
    "    totalNumGames = 0\n",
    "    for year in years:\n",
    "        annual = EPL_data[EPL_data['Year'] == year]\n",
    "        totalNumGames += len(annual.index)\n",
    "    numFeatures = len(getAnnualTeamData('Arsenal',2015)) #random team, to find dimensionality\n",
    "    xTrain = np.zeros(( totalNumGames, numFeatures))\n",
    "    yTrain = np.zeros(( totalNumGames ))\n",
    "    indexCounter = 0\n",
    "    for year in years:\n",
    "        team_vectors = createAnnualDict(year)\n",
    "        annual = EPL_data[EPL_data['Year'] == year]\n",
    "        numGamesInYear = len(annual.index)\n",
    "        xTrainAnnual = np.zeros(( numGamesInYear, numFeatures))\n",
    "        yTrainAnnual = np.zeros(( numGamesInYear ))\n",
    "        counter = 0\n",
    "        for index, row in annual.iterrows():\n",
    "            h_team = row['HomeTeam']\n",
    "            h_vector = team_vectors[h_team]\n",
    "            a_team = row['AwayTeam']\n",
    "            a_vector = team_vectors[a_team]\n",
    "            diff = [a - b for a, b in zip(h_vector, a_vector)]\n",
    "            if (counter % 2 == 0):\n",
    "                if len(diff) != 0:\n",
    "                    xTrainAnnual[counter] = diff\n",
    "                yTrainAnnual[counter] = 1\n",
    "            # the opposite of the difference of the vectors should be a true negative, where team 1 does not win\n",
    "            else:\n",
    "                if len(diff) != 0:\n",
    "                    xTrainAnnual[counter] = [ -p for p in diff]\n",
    "                yTrainAnnual[counter] = 0\n",
    "            counter += 1\n",
    "        xTrain[indexCounter:numGamesInYear+indexCounter] = xTrainAnnual\n",
    "        yTrain[indexCounter:numGamesInYear+indexCounter] = yTrainAnnual\n",
    "        indexCounter += numGamesInYear\n",
    "    return xTrain, yTrain"
   ]
  },
  {
   "cell_type": "code",
   "execution_count": 13,
   "metadata": {},
   "outputs": [],
   "source": [
    "#get the dictionary\n",
    "years = range(2005,2017)\n",
    "xTrain, yTrain = getTrainingData(years)\n",
    "np.save('xTrain', xTrain)\n",
    "np.save('yTrain', yTrain)"
   ]
  },
  {
   "cell_type": "code",
   "execution_count": 14,
   "metadata": {},
   "outputs": [
    {
     "data": {
      "text/plain": [
       "(1656, 14)"
      ]
     },
     "execution_count": 14,
     "metadata": {},
     "output_type": "execute_result"
    }
   ],
   "source": [
    "xTrain.shape"
   ]
  },
  {
   "cell_type": "code",
   "execution_count": 15,
   "metadata": {},
   "outputs": [
    {
     "data": {
      "text/plain": [
       "(1656,)"
      ]
     },
     "execution_count": 15,
     "metadata": {},
     "output_type": "execute_result"
    }
   ],
   "source": [
    "yTrain.shape"
   ]
  },
  {
   "cell_type": "markdown",
   "metadata": {},
   "source": [
    "## Feature Selection\n",
    "\n",
    "Feature selection of the 14 features is done through recursive feature elimination and a ranking of feature importance with extra trees classifier. 10 features of the 14 were determined to be much more influential. "
   ]
  },
  {
   "cell_type": "code",
   "execution_count": 16,
   "metadata": {},
   "outputs": [],
   "source": [
    "model1 = LogisticRegression() #recursive feature elimination \n",
    "model2 = ExtraTreesClassifier() #feature importance"
   ]
  },
  {
   "cell_type": "code",
   "execution_count": 17,
   "metadata": {},
   "outputs": [
    {
     "name": "stdout",
     "output_type": "stream",
     "text": [
      "[ True  True False False False False  True  True  True False  True  True\n",
      "  True  True]\n",
      "[1 1 3 6 4 5 1 1 1 2 1 1 1 1]\n"
     ]
    }
   ],
   "source": [
    "# create the RFE model and select 3 attributes\n",
    "rfe = RFE(model1, 9)\n",
    "model1 = LogisticRegression() #recursive feature elimination \n",
    "model2 = ExtraTreesClassifier() #feature importance\n",
    "rfe = rfe.fit(xTrain, yTrain)\n",
    "# summarize the selection of the attributes\n",
    "print(rfe.support_)\n",
    "print(rfe.ranking_)"
   ]
  },
  {
   "cell_type": "code",
   "execution_count": 18,
   "metadata": {
    "scrolled": true
   },
   "outputs": [
    {
     "name": "stdout",
     "output_type": "stream",
     "text": [
      "[0.07188757 0.0692094  0.07583035 0.07054049 0.07136801 0.069479\n",
      " 0.08170737 0.07113164 0.07286239 0.07049223 0.06591555 0.07451312\n",
      " 0.06560475 0.06945813]\n"
     ]
    }
   ],
   "source": [
    "# Feature Importance\n",
    "#Top Features: total goals scored, total goals allowed, total yellow cards/red cards, total fouls, total corners,\n",
    "    #spg, sag, goalie saves, scoring ratio\n",
    "    \n",
    "#Lowest features: scoring percentage, saves percentage, games won percentage, save ratio\n",
    "    \n",
    "#fit an Extra Trees model to the data\n",
    "model2.fit(xTrain, yTrain)\n",
    "#display the relative importance of each attribute\n",
    "print(model2.feature_importances_) #the higher the more important the feature"
   ]
  },
  {
   "cell_type": "markdown",
   "metadata": {},
   "source": [
    "### Updated Functions to include only top 10 features"
   ]
  },
  {
   "cell_type": "code",
   "execution_count": 19,
   "metadata": {},
   "outputs": [],
   "source": [
    "#updated function to include only top 10 features\n",
    "def getAnnualTeamData2(teamName, year):\n",
    "    \n",
    "    annual_data = EPL_data[EPL_data['Year'] == year]\n",
    "    \n",
    "    # num goals scored in wins and losses\n",
    "    gamesHome = annual_data[annual_data['HomeTeam'] == teamName] \n",
    "    totalGoalsScored = gamesHome['FTHG'].sum()\n",
    "    gamesAway = annual_data[annual_data['AwayTeam'] == teamName]\n",
    "    totalGames = gamesHome.append(gamesAway)\n",
    "    numGames = len(totalGames.index)\n",
    "    #total goals scored\n",
    "    totalGoalsScored += gamesAway['FTAG'].sum()\n",
    "    # total goals allowed\n",
    "    totalGoalsAllowed = gamesHome['FTAG'].sum()\n",
    "    totalGoalsAllowed += gamesAway['FTHG'].sum()\n",
    "    \n",
    "    #discipline: total red cards, total yellow cards\n",
    "    totalYellowCards = gamesHome['HY'].sum()\n",
    "    totalYellowCards += gamesAway['AY'].sum()\n",
    "    totalRedCards = gamesHome['HR'].sum()\n",
    "    totalRedCards += gamesAway['AR'].sum()\n",
    "    \n",
    "    #total fouls\n",
    "    totalFouls = gamesHome['HF'].sum()\n",
    "    totalFouls += gamesAway['AF'].sum()\n",
    "    \n",
    "    #total Corners\n",
    "    totalCorners = gamesHome['HC'].sum()\n",
    "    totalCorners += gamesAway['AC'].sum()\n",
    "\n",
    "    #shots per game (spg) = total shots / total games \n",
    "    totalShots = gamesHome['HS'].sum()\n",
    "    # avg shots per game\n",
    "    totalShots += gamesAway['AS'].sum()\n",
    "    if numGames != 0:\n",
    "        spg = totalShots / numGames\n",
    "    # avg shots allowed per game\n",
    "    totalShotsAgainst = gamesHome['AS'].sum()\n",
    "    totalShotsAgainst += gamesAway['HS'].sum()\n",
    "    if numGames != 0:\n",
    "        sag = totalShotsAgainst / numGames\n",
    "    \n",
    "    #Games Won Percentage = Games Won / (Games Won + Games Lost) \n",
    "    gamesWon = annual_data[annual_data['Winner'] == teamName] \n",
    "    gamesLost = annual_data[annual_data['Loser'] == teamName] \n",
    "    numGamesWon = len(gamesWon.index)\n",
    "    numGamesLost = len(gamesLost.index)\n",
    "    if numGames != 0:\n",
    "        gamesWonPercentage = numGamesWon / numGames\n",
    "    \n",
    "    #Defense stats\n",
    "        #Goalie Saves = Shots on Goal - Goal Scored\n",
    "    totalShotsOnGoal = gamesHome['HST'].sum()\n",
    "    totalShotsOnGoal += gamesAway['AST'].sum()\n",
    "    goalieSaves = totalShotsOnGoal - totalGoalsAllowed\n",
    "    \n",
    "        #Saves Percentage = Goalie Saves / Shots on Goal   \n",
    "    if totalShotsOnGoal != 0:\n",
    "        savesPercentage = goalieSaves / totalShotsOnGoal\n",
    "        \n",
    "        #Saves Ratio = Shots On Goal / Goalie Saves    \n",
    "    if goalieSaves != 0:\n",
    "        savesRatio = totalShotsOnGoal / goalieSaves\n",
    "\n",
    "    #Offense stats\n",
    "        #Scoring Percentage = (Scoring Attempts - Goals Scored ) / Scoring Attempts\n",
    "    if totalShots != 0:\n",
    "        scoringPercentage = (totalShots - totalGoalsScored) / totalShots\n",
    "        \n",
    "        #Scoring Ratio = Shots On Goal / Goals Scored\n",
    "    if totalGoalsScored != 0:\n",
    "        scoringRatio = totalShotsOnGoal / totalGoalsScored       \n",
    "        \n",
    "            \n",
    "    if numGames == 0: #team not in dataset\n",
    "        totalGoalsScored = 0\n",
    "        totalGoalsAllowed = 0\n",
    "        totalYellowCards = 0\n",
    "        totalRedCards = 0\n",
    "        totalFouls = 0\n",
    "        totalCorners = 0\n",
    "        spg = 0\n",
    "        sag = 0\n",
    "        goalieSaves = 0\n",
    "        scoringRatio = 0\n",
    "        \n",
    "    return [totalGoalsScored, totalGoalsAllowed, totalYellowCards, totalRedCards,\n",
    "        totalFouls,totalCorners, spg, sag, goalieSaves, scoringRatio]"
   ]
  },
  {
   "cell_type": "code",
   "execution_count": 20,
   "metadata": {},
   "outputs": [
    {
     "data": {
      "text/plain": [
       "[40, 42, 61, 5, 324, 173, 13.612903225806452, 11.870967741935484, 100, 3.55]"
      ]
     },
     "execution_count": 20,
     "metadata": {},
     "output_type": "execute_result"
    }
   ],
   "source": [
    "#test\n",
    "getAnnualTeamData2('Chelsea', 2015)"
   ]
  },
  {
   "cell_type": "code",
   "execution_count": 21,
   "metadata": {},
   "outputs": [],
   "source": [
    "#updated functions to include only top 10 features\n",
    "def createAnnualDict2(year):\n",
    "    annualDictionary = collections.defaultdict(list)\n",
    "    for team in teamList:\n",
    "        team_vector = getAnnualTeamData2(team, year)\n",
    "        annualDictionary[team] = team_vector\n",
    "    return annualDictionary"
   ]
  },
  {
   "cell_type": "code",
   "execution_count": 22,
   "metadata": {},
   "outputs": [
    {
     "data": {
      "text/plain": [
       "defaultdict(list,\n",
       "            {'Arsenal': [58,\n",
       "              35,\n",
       "              40,\n",
       "              3,\n",
       "              310,\n",
       "              165,\n",
       "              14.193548387096774,\n",
       "              12.0,\n",
       "              117,\n",
       "              2.6206896551724137],\n",
       "             'Burnley': [15,\n",
       "              27,\n",
       "              25,\n",
       "              0,\n",
       "              171,\n",
       "              58,\n",
       "              8.9375,\n",
       "              20.625,\n",
       "              19,\n",
       "              3.066666666666667],\n",
       "             'Everton': [35, 43, 49, 4, 334, 171, 12.125, 13.84375, 90, 3.8],\n",
       "             'Leicester': [47,\n",
       "              35,\n",
       "              48,\n",
       "              4,\n",
       "              359,\n",
       "              186,\n",
       "              12.25,\n",
       "              14.28125,\n",
       "              90,\n",
       "              2.6595744680851063],\n",
       "             'Man City': [62,\n",
       "              40,\n",
       "              54,\n",
       "              3,\n",
       "              348,\n",
       "              210,\n",
       "              15.46875,\n",
       "              8.9375,\n",
       "              122,\n",
       "              2.6129032258064515],\n",
       "             'Southampton': [44,\n",
       "              33,\n",
       "              42,\n",
       "              4,\n",
       "              364,\n",
       "              161,\n",
       "              13.3125,\n",
       "              11.5,\n",
       "              103,\n",
       "              3.090909090909091],\n",
       "             'Swansea': [40, 63, 51, 0, 371, 145, 11.0625, 16.0, 65, 3.2],\n",
       "             'West Ham': [52,\n",
       "              58,\n",
       "              61,\n",
       "              3,\n",
       "              346,\n",
       "              174,\n",
       "              14.6875,\n",
       "              13.40625,\n",
       "              83,\n",
       "              2.7115384615384617],\n",
       "             'Crystal Palace': [34,\n",
       "              59,\n",
       "              60,\n",
       "              0,\n",
       "              388,\n",
       "              175,\n",
       "              12.096774193548388,\n",
       "              14.193548387096774,\n",
       "              58,\n",
       "              3.4411764705882355],\n",
       "             'Man United': [47,\n",
       "              34,\n",
       "              69,\n",
       "              2,\n",
       "              431,\n",
       "              186,\n",
       "              13.09375,\n",
       "              11.25,\n",
       "              112,\n",
       "              3.106382978723404],\n",
       "             'West Brom': [39,\n",
       "              44,\n",
       "              60,\n",
       "              0,\n",
       "              366,\n",
       "              142,\n",
       "              10.75,\n",
       "              14.46875,\n",
       "              53,\n",
       "              2.4871794871794872],\n",
       "             'Watford': [29,\n",
       "              51,\n",
       "              70,\n",
       "              4,\n",
       "              426,\n",
       "              120,\n",
       "              10.483870967741936,\n",
       "              14.483870967741936,\n",
       "              59,\n",
       "              3.793103448275862],\n",
       "             'Newcastle': [22,\n",
       "              27,\n",
       "              18,\n",
       "              2,\n",
       "              177,\n",
       "              65,\n",
       "              11.75,\n",
       "              12.8125,\n",
       "              49,\n",
       "              3.4545454545454546],\n",
       "             'Tottenham': [54,\n",
       "              31,\n",
       "              62,\n",
       "              0,\n",
       "              400,\n",
       "              219,\n",
       "              18.35483870967742,\n",
       "              10.64516129032258,\n",
       "              166,\n",
       "              3.6481481481481484],\n",
       "             'Liverpool': [64,\n",
       "              42,\n",
       "              45,\n",
       "              2,\n",
       "              343,\n",
       "              209,\n",
       "              17.0625,\n",
       "              10.25,\n",
       "              142,\n",
       "              2.875],\n",
       "             'Bournemouth': [36,\n",
       "              57,\n",
       "              43,\n",
       "              2,\n",
       "              313,\n",
       "              177,\n",
       "              10.71875,\n",
       "              14.0,\n",
       "              46,\n",
       "              2.861111111111111]})"
      ]
     },
     "execution_count": 22,
     "metadata": {},
     "output_type": "execute_result"
    }
   ],
   "source": [
    "createAnnualDict2(2016)"
   ]
  },
  {
   "cell_type": "code",
   "execution_count": 23,
   "metadata": {},
   "outputs": [],
   "source": [
    "#updated functions to include only top 10 features\n",
    "def getTrainingData2(years):\n",
    "    totalNumGames = 0\n",
    "    for year in years:\n",
    "        annual = EPL_data[EPL_data['Year'] == year]\n",
    "        totalNumGames += len(annual.index)\n",
    "    numFeatures = len(getAnnualTeamData2('Arsenal',2015)) #random team, to find dimensionality\n",
    "    xTrain2 = np.zeros(( totalNumGames, numFeatures))\n",
    "    yTrain2 = np.zeros(( totalNumGames ))\n",
    "    indexCounter = 0\n",
    "    for year in years:\n",
    "        team_vectors = createAnnualDict2(year)\n",
    "        annual = EPL_data[EPL_data['Year'] == year]\n",
    "        numGamesInYear = len(annual.index)\n",
    "        xTrainAnnual = np.zeros(( numGamesInYear, numFeatures))\n",
    "        yTrainAnnual = np.zeros(( numGamesInYear ))\n",
    "        counter = 0\n",
    "        for index, row in annual.iterrows():\n",
    "            h_team = row['HomeTeam']\n",
    "            h_vector = team_vectors[h_team]\n",
    "            a_team = row['AwayTeam']\n",
    "            a_vector = team_vectors[a_team]\n",
    "            diff = [a - b for a, b in zip(h_vector, a_vector)]\n",
    "            if (counter % 2 == 0):\n",
    "                if len(diff) != 0:\n",
    "                    xTrainAnnual[counter] = diff\n",
    "                if h_team == row['Winner']:\n",
    "                    yTrainAnnual[counter] = 1\n",
    "                else: \n",
    "                    yTrainAnnual[counter] = 0\n",
    "            # the opposite of the difference of the vectors should be a true negative, where team 1 does not win\n",
    "            else:\n",
    "                if len(diff) != 0:\n",
    "                    xTrainAnnual[counter] = [ -p for p in diff]\n",
    "                yTrainAnnual[counter] = 0\n",
    "            counter += 1\n",
    "        xTrain2[indexCounter:numGamesInYear+indexCounter] = xTrainAnnual\n",
    "        yTrain2[indexCounter:numGamesInYear+indexCounter] = yTrainAnnual\n",
    "        indexCounter += numGamesInYear\n",
    "    return xTrain2, yTrain2"
   ]
  },
  {
   "cell_type": "code",
   "execution_count": 24,
   "metadata": {},
   "outputs": [],
   "source": [
    "#get the dictionary\n",
    "years = range(2005,2017)\n",
    "xTrain2, yTrain2 = getTrainingData2(years)\n",
    "np.save('xTrain2', xTrain2)\n",
    "np.save('yTrain2', yTrain2)"
   ]
  },
  {
   "cell_type": "code",
   "execution_count": 25,
   "metadata": {},
   "outputs": [
    {
     "data": {
      "text/plain": [
       "(1656, 10)"
      ]
     },
     "execution_count": 25,
     "metadata": {},
     "output_type": "execute_result"
    }
   ],
   "source": [
    "xTrain2.shape"
   ]
  },
  {
   "cell_type": "code",
   "execution_count": 26,
   "metadata": {},
   "outputs": [
    {
     "data": {
      "text/plain": [
       "(1656,)"
      ]
     },
     "execution_count": 26,
     "metadata": {},
     "output_type": "execute_result"
    }
   ],
   "source": [
    "yTrain2.shape"
   ]
  },
  {
   "cell_type": "code",
   "execution_count": 27,
   "metadata": {},
   "outputs": [
    {
     "name": "stdout",
     "output_type": "stream",
     "text": [
      "[[ -8.          15.           3.         ...   4.05555556 -25.\n",
      "    5.13846154]\n",
      " [  5.           5.         -15.         ...   4.98888889 -14.\n",
      "   -5.5       ]\n",
      " [ -2.          -7.           0.         ...  -4.36363636   1.\n",
      "    0.85714286]\n",
      " ...\n",
      " [ -2.          -2.           9.         ...  -1.3125     -20.\n",
      "   -0.26209677]\n",
      " [  5.         -11.         -18.         ...  -2.96875     50.\n",
      "    0.6037296 ]\n",
      " [ -4.          -6.          -8.         ...  -2.         -19.\n",
      "   -0.33888889]]\n"
     ]
    }
   ],
   "source": [
    "print (xTrain2)"
   ]
  },
  {
   "cell_type": "markdown",
   "metadata": {},
   "source": [
    "## Model Validation\n",
    "Training all 14 features using linear Regression produced the most reliable results. Thus although the function gave the top 10 features to be most influential, all 14 were used to calculate the final results for optimal accuracy"
   ]
  },
  {
   "cell_type": "code",
   "execution_count": 28,
   "metadata": {},
   "outputs": [],
   "source": [
    "# Tried all the following models. Uncomment model to try.\n",
    "\n",
    "lm = linear_model.LinearRegression()\n",
    "#lm = tree.DecisionTreeClassifier()\n",
    "#lm = tree.DecisionTreeRegressor()\n",
    "#lm = linear_model.LogisticRegression()\n",
    "#lm = linear_model.BayesianRidge()\n",
    "#lm = linear_model.Lasso()\n",
    "#lm = svm.SVC()\n",
    "#lm = svm.SVR()\n",
    "#lm = linear_model.Ridge(alpha = 0.5)\n",
    "#lm = AdaBoostClassifier(n_estimators=100)\n",
    "#lm = GradientBoostingClassifier(n_estimators=100) \n",
    "#lm = GradientBoostingRegressor(n_estimators=100, max_depth=9) \n",
    "#lm = RandomForestClassifier(n_estimators=100) \n",
    "#lm = KNeighborsClassifier(n_neighbors=60) #not possible with only 10 features"
   ]
  },
  {
   "cell_type": "code",
   "execution_count": 29,
   "metadata": {},
   "outputs": [
    {
     "name": "stdout",
     "output_type": "stream",
     "text": [
      "(1242, 14) (1242,)\n",
      "(414, 14) (414,)\n",
      "0.5075995376244039\n"
     ]
    }
   ],
   "source": [
    "#use this\n",
    "xTrain, X_test, yTrain, y_test = train_test_split(xTrain, yTrain)\n",
    "print (xTrain.shape, yTrain.shape)\n",
    "print (X_test.shape, y_test.shape)\n",
    "#lm = linear_model.LinearRegression()\n",
    "model2 = lm.fit(xTrain, yTrain)\n",
    "predictions = lm.predict(X_test)\n",
    "#avg pred\n",
    "print (sum(predictions)/len(predictions))\n",
    "#print predictions"
   ]
  },
  {
   "cell_type": "markdown",
   "metadata": {},
   "source": [
    "## Results\n",
    "I tested out the above models and selected the one with the highest prediction accuracy (linear regression). I then used this model to calculate the predictions for the 2018 games. "
   ]
  },
  {
   "cell_type": "code",
   "execution_count": 30,
   "metadata": {},
   "outputs": [],
   "source": [
    "def createGamePrediction(team1_vector, team2_vector, xTrain, yTrain):\n",
    "    xTrain, X_test, yTrain, Y_test = train_test_split(xTrain, yTrain)\n",
    "    xTrain.shape, yTrain.shape\n",
    "    X_test.shape, y_test.shape\n",
    "    lm = linear_model.LinearRegression()\n",
    "    model2 = lm.fit(xTrain, yTrain)\n",
    "    diff = [a - b for a, b in zip(team1_vector, team2_vector)]\n",
    "    predictions = lm.predict([diff])\n",
    "    print(diff)\n",
    "    return predictions"
   ]
  },
  {
   "cell_type": "code",
   "execution_count": 31,
   "metadata": {
    "scrolled": true
   },
   "outputs": [
    {
     "name": "stdout",
     "output_type": "stream",
     "text": [
      "[0, 0, 0, 0, 0, 0, 0.0, 0.0, 0.0, 0, 0.0, 0.0, 0.0, 0.0]\n",
      "Probability that home team wins: [0.51099958]\n"
     ]
    }
   ],
   "source": [
    "team1_vector = getAnnualTeamData(\"Liverpool\", 2017)\n",
    "team2_vector = getAnnualTeamData(\"Liverpool\", 2017)\n",
    "print ('Probability that home team wins:',createGamePrediction(team1_vector, team2_vector,xTrain, yTrain))"
   ]
  }
 ],
 "metadata": {
  "kernelspec": {
   "display_name": "Python 3 (ipykernel)",
   "language": "python",
   "name": "python3"
  },
  "language_info": {
   "codemirror_mode": {
    "name": "ipython",
    "version": 3
   },
   "file_extension": ".py",
   "mimetype": "text/x-python",
   "name": "python",
   "nbconvert_exporter": "python",
   "pygments_lexer": "ipython3",
   "version": "3.8.10"
  }
 },
 "nbformat": 4,
 "nbformat_minor": 4
}
